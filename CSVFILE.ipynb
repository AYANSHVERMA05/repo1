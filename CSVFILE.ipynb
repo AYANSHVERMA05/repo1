{
  "nbformat": 4,
  "nbformat_minor": 0,
  "metadata": {
    "colab": {
      "provenance": [],
      "authorship_tag": "ABX9TyPhWGQ7F1uCjzh2jMKYD7EH",
      "include_colab_link": true
    },
    "kernelspec": {
      "name": "python3",
      "display_name": "Python 3"
    },
    "language_info": {
      "name": "python"
    }
  },
  "cells": [
    {
      "cell_type": "markdown",
      "metadata": {
        "id": "view-in-github",
        "colab_type": "text"
      },
      "source": [
        "<a href=\"https://colab.research.google.com/github/AYANSHVERMA05/repo1/blob/main/CSVFILE.ipynb\" target=\"_parent\"><img src=\"https://colab.research.google.com/assets/colab-badge.svg\" alt=\"Open In Colab\"/></a>"
      ]
    },
    {
      "cell_type": "code",
      "source": [
        "\n",
        "import pandas as pd\n",
        "\n",
        "# List of data\n",
        "data = [['Alice', 24], ['Bob', 27], ['Charlie', 22]]\n",
        "\n",
        "# Creating DataFrame\n",
        "df_list = pd.DataFrame(data, columns=['Name', 'Age'])\n",
        "print(df_list)\n",
        "\n",
        "\n",
        "# List of tuples\n",
        "data = [('Alice', 24), ('Bob', 27), ('Charlie', 22)]\n",
        "\n",
        "# Creating DataFrame\n",
        "df_tuples = pd.DataFrame(data, columns=['Name', 'Age'])\n",
        "print(df_tuples)\n",
        "\n",
        "\n",
        "# Dictionary of data\n",
        "data = {'Name': ['Alice', 'Bob', 'Charlie'], 'Age': [24, 27, 22]}\n",
        "\n",
        "# Creating DataFrame\n",
        "df_dict = pd.DataFrame(data)\n",
        "print(df_dict)\n",
        "\n",
        "df.to_csv('file4.csv', index=False)\n",
        "\n"
      ],
      "metadata": {
        "colab": {
          "base_uri": "https://localhost:8080/",
          "height": 418
        },
        "id": "_FR04tBQYZ30",
        "outputId": "e0d19a25-c6a3-47e7-a83e-1bea3f0e43eb"
      },
      "execution_count": 8,
      "outputs": [
        {
          "output_type": "stream",
          "name": "stdout",
          "text": [
            "      Name  Age\n",
            "0    Alice   24\n",
            "1      Bob   27\n",
            "2  Charlie   22\n",
            "      Name  Age\n",
            "0    Alice   24\n",
            "1      Bob   27\n",
            "2  Charlie   22\n",
            "      Name  Age\n",
            "0    Alice   24\n",
            "1      Bob   27\n",
            "2  Charlie   22\n"
          ]
        },
        {
          "output_type": "error",
          "ename": "NameError",
          "evalue": "name 'df' is not defined",
          "traceback": [
            "\u001b[0;31m---------------------------------------------------------------------------\u001b[0m",
            "\u001b[0;31mNameError\u001b[0m                                 Traceback (most recent call last)",
            "\u001b[0;32m/tmp/ipython-input-2213909616.py\u001b[0m in \u001b[0;36m<cell line: 0>\u001b[0;34m()\u001b[0m\n\u001b[1;32m     24\u001b[0m \u001b[0mprint\u001b[0m\u001b[0;34m(\u001b[0m\u001b[0mdf_dict\u001b[0m\u001b[0;34m)\u001b[0m\u001b[0;34m\u001b[0m\u001b[0;34m\u001b[0m\u001b[0m\n\u001b[1;32m     25\u001b[0m \u001b[0;34m\u001b[0m\u001b[0m\n\u001b[0;32m---> 26\u001b[0;31m \u001b[0mdf\u001b[0m\u001b[0;34m.\u001b[0m\u001b[0mto_csv\u001b[0m\u001b[0;34m(\u001b[0m\u001b[0;34m'file4.csv'\u001b[0m\u001b[0;34m,\u001b[0m \u001b[0mindex\u001b[0m\u001b[0;34m=\u001b[0m\u001b[0;32mFalse\u001b[0m\u001b[0;34m)\u001b[0m\u001b[0;34m\u001b[0m\u001b[0;34m\u001b[0m\u001b[0m\n\u001b[0m\u001b[1;32m     27\u001b[0m \u001b[0;34m\u001b[0m\u001b[0m\n",
            "\u001b[0;31mNameError\u001b[0m: name 'df' is not defined"
          ]
        }
      ]
    },
    {
      "cell_type": "code",
      "source": [
        "import pandas as pd\n",
        "\n",
        "# Creating a DataFrame from a dictionary\n",
        "data = {\n",
        "    \"Name\": [\"John\", \"Anna\", \"Peter\", \"Linda\"],\n",
        "    \"Age\": [28, 24, 35, 32],\n",
        "    \"City\": [\"London\", \"Paris\", \"Berlin\", \"Tokyo\"],\n",
        "}\n",
        "df = pd.DataFrame(data)\n",
        "print(\"DataFrame from dictionary:\")\n",
        "print(df)\n",
        "\n",
        "# Save to CSV\n",
        "df.to_csv(\"dictionary_dataframe.csv\", index=False)\n",
        "\n",
        "# Creating a DataFrame from a list of lists with column names\n",
        "data_list = [\n",
        "    [\"John\", 28, \"London\"],\n",
        "    [\"Anna\", 24, \"Paris\"],\n",
        "    [\"Peter\", 35, \"Berlin\"],\n",
        "]\n",
        "df_list = pd.DataFrame(data_list, columns=[\"Name\", \"Age\", \"City\"])\n",
        "print(\"\\nDataFrame from list of lists:\")\n",
        "print(df_list)\n",
        "\n",
        "# Save to CSV\n",
        "df_list.to_csv(\"list_dataframe.csv\", index=False)\n",
        "\n",
        "# Accessing columns\n",
        "print(f\"\\nNames column:\\n{df['Name']}\")\n",
        "\n",
        "# Filtering rows\n",
        "print(f\"\\nPeople older than 30:\\n{df[df['Age'] > 30]}\")"
      ],
      "metadata": {
        "colab": {
          "base_uri": "https://localhost:8080/"
        },
        "id": "pRvFSd2bjAbo",
        "outputId": "14f151fd-905a-4d58-d176-0c76b1411887"
      },
      "execution_count": 9,
      "outputs": [
        {
          "output_type": "stream",
          "name": "stdout",
          "text": [
            "DataFrame from dictionary:\n",
            "    Name  Age    City\n",
            "0   John   28  London\n",
            "1   Anna   24   Paris\n",
            "2  Peter   35  Berlin\n",
            "3  Linda   32   Tokyo\n",
            "\n",
            "DataFrame from list of lists:\n",
            "    Name  Age    City\n",
            "0   John   28  London\n",
            "1   Anna   24   Paris\n",
            "2  Peter   35  Berlin\n",
            "\n",
            "Names column:\n",
            "0     John\n",
            "1     Anna\n",
            "2    Peter\n",
            "3    Linda\n",
            "Name: Name, dtype: object\n",
            "\n",
            "People older than 30:\n",
            "    Name  Age    City\n",
            "2  Peter   35  Berlin\n",
            "3  Linda   32   Tokyo\n"
          ]
        }
      ]
    }
  ]
}