{
  "nbformat": 4,
  "nbformat_minor": 0,
  "metadata": {
    "colab": {
      "provenance": [],
      "authorship_tag": "ABX9TyMvb0PFusukcJRy4PX8gKKW",
      "include_colab_link": true
    },
    "kernelspec": {
      "name": "python3",
      "display_name": "Python 3"
    },
    "language_info": {
      "name": "python"
    }
  },
  "cells": [
    {
      "cell_type": "markdown",
      "metadata": {
        "id": "view-in-github",
        "colab_type": "text"
      },
      "source": [
        "<a href=\"https://colab.research.google.com/github/AYANSHVERMA05/repo1/blob/main/Untitled4.ipynb\" target=\"_parent\"><img src=\"https://colab.research.google.com/assets/colab-badge.svg\" alt=\"Open In Colab\"/></a>"
      ]
    },
    {
      "cell_type": "code",
      "source": [
        "\n",
        "import pandas as pd\n",
        "\n",
        "# List of data\n",
        "data = [['Alice', 24], ['Bob', 27], ['Charlie', 22]]\n",
        "\n",
        "# Creating DataFrame\n",
        "df_list = pd.DataFrame(data, columns=['Name', 'Age'])\n",
        "print(df_list)\n",
        "\n",
        "\n",
        "# List of tuples\n",
        "data = [('Alice', 24), ('Bob', 27), ('Charlie', 22)]\n",
        "\n",
        "# Creating DataFrame\n",
        "df_tuples = pd.DataFrame(data, columns=['Name', 'Age'])\n",
        "print(df_tuples)\n",
        "\n",
        "\n",
        "# Dictionary of data\n",
        "data = {'Name': ['Alice', 'Bob', 'Charlie'], 'Age': [24, 27, 22]}\n",
        "\n",
        "# Creating DataFrame\n",
        "df_dict = pd.DataFrame(data)\n",
        "print(df_dict)\n"
      ],
      "metadata": {
        "colab": {
          "base_uri": "https://localhost:8080/"
        },
        "id": "_FR04tBQYZ30",
        "outputId": "1026f969-8d14-4820-facb-92b296483a75"
      },
      "execution_count": 7,
      "outputs": [
        {
          "output_type": "stream",
          "name": "stdout",
          "text": [
            "      Name  Age\n",
            "0    Alice   24\n",
            "1      Bob   27\n",
            "2  Charlie   22\n",
            "      Name  Age\n",
            "0    Alice   24\n",
            "1      Bob   27\n",
            "2  Charlie   22\n",
            "      Name  Age\n",
            "0    Alice   24\n",
            "1      Bob   27\n",
            "2  Charlie   22\n"
          ]
        }
      ]
    }
  ]
}
